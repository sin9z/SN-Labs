{
 "cells": [
  {
   "cell_type": "markdown",
   "id": "b08afac3-0e51-4926-807c-69702b204f8c",
   "metadata": {},
   "source": [
    "# Data Science Tools and Ecosystem"
   ]
  },
  {
   "cell_type": "markdown",
   "id": "3eaec877-3fc0-4525-a8b2-aaa15a96bf8c",
   "metadata": {},
   "source": [
    "In this notebook, Data Science Tools and Ecosystem are summarized."
   ]
  },
  {
   "cell_type": "markdown",
   "id": "e2172ce8-5be8-4b5b-b11a-3008f0b29e65",
   "metadata": {},
   "source": [
    "Some of the popular languages that Data Scientists use are:\n",
    "1. JAVA\n",
    "2. PYTHON\n",
    "3. R"
   ]
  },
  {
   "cell_type": "markdown",
   "id": "4e5561e8-65d2-437e-9280-94b4c03fe049",
   "metadata": {},
   "source": [
    "Some of the commonly used libraries used by Data Scientists include:\n",
    "1. pandas\n",
    "2. matplotlib\n",
    "3. scikit-learn"
   ]
  },
  {
   "cell_type": "markdown",
   "id": "9f123514-a568-4703-b1d7-55d4ed938d75",
   "metadata": {},
   "source": [
    "| Data Science Tools          |\n",
    "|----------------------------|\n",
    "| Jupyter Notebook           |\n",
    "| RStudio                    |\n",
    "| Apache Zeppelin            |\n"
   ]
  },
  {
   "cell_type": "markdown",
   "id": "23dc89e6-ab17-4622-9ee7-b4dd3dab8739",
   "metadata": {},
   "source": [
    "### Below are a few examples of evaluating arithmetic expressions in Python"
   ]
  },
  {
   "cell_type": "code",
   "execution_count": 1,
   "id": "2e673d95-79bb-4307-baa8-c8ddcfc224cc",
   "metadata": {},
   "outputs": [
    {
     "data": {
      "text/plain": [
       "17"
      ]
     },
     "execution_count": 1,
     "metadata": {},
     "output_type": "execute_result"
    }
   ],
   "source": [
    "# This is a simple arithmetic expression to multiply then add integers\n",
    "(3 * 4) + 5\n"
   ]
  },
  {
   "cell_type": "code",
   "execution_count": 2,
   "id": "d394f625-e642-43a3-a33b-099ef1b02516",
   "metadata": {},
   "outputs": [
    {
     "data": {
      "text/plain": [
       "3.3333333333333335"
      ]
     },
     "execution_count": 2,
     "metadata": {},
     "output_type": "execute_result"
    }
   ],
   "source": [
    "# This will convert 200 minutes to hours by dividing by 60\n",
    "200 / 60\n"
   ]
  },
  {
   "cell_type": "markdown",
   "id": "4893a0d6-4ad8-4f92-848a-d824b0f64843",
   "metadata": {},
   "source": [
    "**Objectives:**\n",
    "\n",
    "- List popular languages for Data Science  \n",
    "- Identify common libraries used in Data Science  \n",
    "- Demonstrate basic arithmetic operations using Python  \n",
    "- Convert minutes to hours using a simple Python expression  \n",
    "- Create and format tables using Markdown in Jupyter Notebook  "
   ]
  },
  {
   "cell_type": "markdown",
   "id": "debe5e12-799c-46dd-871a-7fbfec1a8651",
   "metadata": {},
   "source": [
    "## Author\n",
    "\n",
    "Sinchana\n"
   ]
  }
 ],
 "metadata": {
  "kernelspec": {
   "display_name": "Python 3 (ipykernel)",
   "language": "python",
   "name": "python3"
  },
  "language_info": {
   "codemirror_mode": {
    "name": "ipython",
    "version": 3
   },
   "file_extension": ".py",
   "mimetype": "text/x-python",
   "name": "python",
   "nbconvert_exporter": "python",
   "pygments_lexer": "ipython3",
   "version": "3.12.7"
  }
 },
 "nbformat": 4,
 "nbformat_minor": 5
}
